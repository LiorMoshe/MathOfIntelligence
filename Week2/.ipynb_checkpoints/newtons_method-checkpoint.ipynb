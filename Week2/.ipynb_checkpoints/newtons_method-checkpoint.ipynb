{
 "cells": [
  {
   "cell_type": "markdown",
   "metadata": {},
   "source": [
    "## Newton's Method"
   ]
  },
  {
   "cell_type": "markdown",
   "metadata": {},
   "source": [
    "This is an implementation of the coding challenge of week2 of the Math of Intelligence course.\n",
    "In this challenge we will implement newston's method that is used for root finding and second order optimization using numpy."
   ]
  },
  {
   "cell_type": "code",
   "execution_count": 19,
   "metadata": {},
   "outputs": [],
   "source": [
    "import numpy as np\n",
    "from sympy import *\n",
    "from sympy.parsing import sympy_parser as spp\n",
    "import matplotlib.pyplot as plt\n",
    "\n",
    "init_printing(use_unicode=True)"
   ]
  },
  {
   "cell_type": "markdown",
   "metadata": {},
   "source": [
    "First, we will look at newton's method to find roots of a polynomial (also called newton-raphson method).\n",
    "\n",
    "#### What is a root?\n",
    "For a polynomial f(x) a root x0 of this polynomial upholds:\\begin{equation*}\n",
    "f(x_0) = 0\n",
    "\\end{equation*}"
   ]
  },
  {
   "cell_type": "markdown",
   "metadata": {},
   "source": [
    "#### The idea\n",
    "First, let's look at the problem of finding roots of a function f(x) in 2D.\n",
    "By using newton's method we will start with a random guess $x_0$ and update our guess using the following update rule:\n",
    "$x_{n+1} = x_n - f(x_n) / f'(x_n)$\n",
    "We will use this update rule iteratively until a good approximation is reached.\n",
    "Let's understands the meaning of this update rule, $f'(x_n)$ stands for the **derivative** of our polynomial at the point of our current root guess $x_n$. The derivative of our polynomial f by x indicates the **rate of change** of f relatively to x if we will change x by a small margin.If it's positive it means the value f(x) will increase and if it's negative it means it will decrease.\n",
    "So the expression $f(x_n)/f'(x_n)$ will **always** go at the direction of the root.Why? Because if our polynomial increases at $x_n$ our update rule will reduce the absolute value of our root guess (whether it was positive or negative,same for $f(x_n)$),same for the case that the polynomial decreases at $x_n$.\n",
    "\n",
    "When we will stop using the update rule and get our final guess?\n",
    "We will use some boundary value $epsilon$ such that when $abs(x_n) < epsilon$ we will stop iterating.\n",
    "\n",
    "Cool graph that shows our update rule:\n",
    "![title](root_img.gif)\n",
    "\n"
   ]
  },
  {
   "cell_type": "markdown",
   "metadata": {},
   "source": [
    "Now let's get to the code:"
   ]
  },
  {
   "cell_type": "code",
   "execution_count": 15,
   "metadata": {},
   "outputs": [],
   "source": [
    "def dx(f,x):\n",
    "    return abs(f(x))\n",
    "\n",
    "def newton_root_find(f,df,x0,e):\n",
    "    '''\n",
    "    Perform the newton-raphson method to find a root of a given function f.\n",
    "    Parameters:\n",
    "        -f: The function that we will find it's root.\n",
    "        -df: The function's derivative.\n",
    "        -x0: Our starting guess.\n",
    "        -e : Our boundary epsilon,when abs(x0) will be lower than it we\n",
    "             will stop.\n",
    "    '''\n",
    "    delta = dx(f,x0)\n",
    "    while delta > e:\n",
    "        x0 = x0 - f(x0)/df(x0)\n",
    "        delta = dx(f,x0)\n",
    "    print(\"Final root: \" + str(x0))\n",
    "    print(\"Value at root: \" + str(f(x0)))"
   ]
  },
  {
   "cell_type": "markdown",
   "metadata": {},
   "source": [
    "Let's test our implementation using some sample function."
   ]
  },
  {
   "cell_type": "code",
   "execution_count": 17,
   "metadata": {},
   "outputs": [
    {
     "data": {
      "image/png": "[encoded data removed]",
      "text/plain": [
       "<Figure size 432x288 with 1 Axes>"
      ]
     },
     "metadata": {},
     "output_type": "display_data"
    },
    {
     "name": "stdout",
     "output_type": "stream",
     "text": [
      "Final root: 0.875\n",
      "Value at root: 0.044921875\n"
     ]
    }
   ],
   "source": [
    "def plot_formula(formula,x_range):\n",
    "    '''\n",
    "    Plot a 2d graph using a given formula.\n",
    "    '''\n",
    "    x = np.array(x_range)\n",
    "    y = formula(x)\n",
    "    plt.plot(x,y)\n",
    "    plt.show()\n",
    "\n",
    "def example_func(x):\n",
    "    return x**3 + 5*x -5\n",
    "\n",
    "plot_formula(example_func,np.arange(-50,50,.5))\n",
    "derivative = lambda x: 3 * x ** 2 + 5\n",
    "newton_root_find(example_func,derivative,1,0.05)\n"
   ]
  },
  {
   "cell_type": "markdown",
   "metadata": {},
   "source": [
    "### Newton optimization method"
   ]
  },
  {
   "cell_type": "markdown",
   "metadata": {},
   "source": [
    "Differently from gradient descent which we looked at the previous lesson,newton's optimization method looks at the **second derivative** of our loss function in order to optimize our loss (in case of multidimensional functions we will refer to the **Hassian Matrix**).\n",
    "In the optimization case we will try to find the value $x_n$ such that our derivative will be equal to zero: $f'(x_n) = 0$. So it's pretty trivial (basic calculus) that when our derivative will get closer to zero we will reach **local minima**.\n",
    "\n",
    "There are two cases for implementing newton's optimization method: the 1D case and the multi-dimensional case.\n",
    "We will implement the method for both cases.\n",
    "\n",
    "First let's implement the optimization process for the first order optimization case."
   ]
  },
  {
   "cell_type": "code",
   "execution_count": 25,
   "metadata": {},
   "outputs": [],
   "source": [
    "#The range of our plot\n",
    "plot_from,plot_to,plot_step = -7.0,7.0,0.1\n",
    "\n",
    "#The range of precision we will target.\n",
    "target_precision = 0.3\n",
    "\n",
    "#Create a matrix of the symbols that we will use.\n",
    "m = Matrix(symbols('x1 x2'))\n",
    "\n",
    "#Obj will save the expression that we will optimize.\n",
    "obj = spp.parse_expr('x1**2 -2 * x1 * x2 + 4 * x2**2')\n",
    "\n",
    "def dfdx(x,gradient):\n",
    "    '''\n",
    "    Compute value of the gradient at a given point x.\n",
    "    Parameters:\n",
    "        - x : The value we will compute the gradient at.\n",
    "        - gradient: The gradient (using sympy expression)\n",
    "    Returns:\n",
    "        - value of the gradient at x.\n",
    "    '''\n",
    "    return [gradient[i].subs(m[0],x[0]).subs(m[1],x[1]) for i in range(len(gradient))]\n",
    "\n",
    "def steepest_descent(obj,x_start,x_res,lr = 0.0002):\n",
    "    '''\n",
    "    This is a first order optimization algorithm.\n",
    "    Parameters:\n",
    "        -lr: Stands for the learning rate that we will use in our\n",
    "             update rule.\n",
    "        -obj: Sympy expression that we will optimize.\n",
    "        -x_start: Starting point for our optimization.\n",
    "        -x_res: Ending point for our optimization.\n",
    "    Returns: void\n",
    "    \n",
    "    '''\n",
    "    #First compute the gradient,derivative by each variable.\n",
    "    gradient = [diff(obj,i) for i in m]\n",
    "    #Initialize our current value (default will be 0).\n",
    "    x_vals = [[0.0,0.0]]\n",
    "    #Save current number of iteration.\n",
    "    num_iter = 0\n",
    "    #Loop until the distance between the previous iteration value\n",
    "    # to the current value is smaller than our target distance.\n",
    "    while (np.linalg.norm(np.array(x_vals[-1]) - x_res).astype(int) \n",
    "           > target_precision):\n",
    "        #Compute gradients at current point\n",
    "        grads = dfdx(x_vals[num_iter],gradient)\n",
    "        \n",
    "        #Update current value.\n",
    "        x_vals.append(x_vals[num_iter] - alpha * grads)\n",
    "        num_iter += 1\n",
    "        #Stop after a thousand iterations\n",
    "        if (num_iter > 1000):\n",
    "            break\n",
    "    print(\"Steepest descent final result distance: \",\n",
    "          np.linalg.norm(np.array(x_vals[-1]) - x_res).astype(int) )\n",
    "    #Plot our results.\n",
    "    x_vals = np.array(x_vals)\n",
    "    plt.plot(x_vals[:,0],x_vals[:,1],'g-o')"
   ]
  },
  {
   "cell_type": "markdown",
   "metadata": {},
   "source": [
    "Now let's implement the same optimization process for second order optimization using newton's method."
   ]
  },
  {
   "cell_type": "code",
   "execution_count": null,
   "metadata": {},
   "outputs": [],
   "source": [
    "def newton_optimization(obj,x_start,x_res):\n",
    "    '''\n",
    "    Newton's method for second order optimization.\n",
    "    Parameters:\n",
    "        -obj: Sympy expression that we will optimize.\n",
    "        -x_start: Starting point for our optimization.\n",
    "        -x_res: Ending point for our optimization.\n",
    "    '''\n",
    "    #Compute the gradient.\n",
    "    gradient = [diff(obj,i) for i in m]\n",
    "    \n",
    "    #Hessian matrix.\n",
    "    H = Matrix([[diff(partial_deriv,i) for i in m]\n",
    "                for partial_deriv in gradient])\n",
    "    H_inv = H.inv()\n",
    "    \n",
    "    x_vals = [[0,0]]\n",
    "    x_vals[0] = x_start\n",
    "    #Compute the amount we will change our current value xn by:delta\n",
    "    delta = -H_inv * gradient\n",
    "    \n",
    "    num_iter = 0\n",
    "    #Loop until the distance between our current point to the final one\n",
    "    #is smaller that the target precision.\n",
    "    while(np.linalg.norm(\n",
    "        (np.array(x_vals[-1]) - x_res).astype(int)) > target_precision):\n",
    "        #grads = Matrix([dfdx()])\n",
    "        #Evaluate delta's value for x_n.\n",
    "        delta_xn = delta.subs(m[0],x_vals[num_iter][0]).\n",
    "                    subs(m[1],x_vals[num_iter][1])\n",
    "        x_vals.append(x_vals[num_iter] + delta_xn)\n",
    "    \n",
    "    print(\"Final result newton's method: \",np.linalg.norm(\n",
    "        (np.array(x_vals[-1]) - x_res).astype(int)) > target_precision)\n",
    "    \n",
    "    #Plot our final results.\n",
    "    x_vals = np.array(x_vals)\n",
    "    plt.plot(x_vals[0,:],x_vals[1,:],'k-o')\n",
    "    "
   ]
  }
 ],
 "metadata": {
  "kernelspec": {
   "display_name": "Python 3",
   "language": "python",
   "name": "python3"
  },
  "language_info": {
   "codemirror_mode": {
    "name": "ipython",
    "version": 3
   },
   "file_extension": ".py",
   "mimetype": "text/x-python",
   "name": "python",
   "nbconvert_exporter": "python",
   "pygments_lexer": "ipython3",
   "version": "3.6.4"
  }
 },
 "nbformat": 4,
 "nbformat_minor": 2
}
